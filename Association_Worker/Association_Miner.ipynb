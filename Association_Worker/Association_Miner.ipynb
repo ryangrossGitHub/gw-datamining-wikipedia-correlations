{
 "cells": [
  {
   "cell_type": "code",
   "execution_count": null,
   "id": "8b2a2953",
   "metadata": {},
   "outputs": [],
   "source": [
    "%%sparql --store-to results\n",
    "# Query 3: Get predicate object pairs based on subject list from Query 2\n",
    "SELECT ?s ?p ?o   \n",
    "WHERE {\n",
    "    {\n",
    "        # Query 2: Filter subject list from Query 1 to keep subjects with more than 1 statement\n",
    "        SELECT ?s \n",
    "        WHERE {\n",
    "            {\n",
    "                # Query 1: Count statements per subject\n",
    "                SELECT ?s (count(*) AS ?subject_statements) \n",
    "                WHERE {?s ?p ?o} \n",
    "                GROUP BY ?s\n",
    "            }\n",
    "            FILTER (?subject_statements > 1)\n",
    "        }\n",
    "    }\n",
    "    {?s ?p ?o} \n",
    "}\n",
    "ORDER BY ?s"
   ]
  },
  {
   "cell_type": "code",
   "execution_count": null,
   "id": "37d79bfd",
   "metadata": {},
   "outputs": [],
   "source": [
    "# Flatten results into array of predicate object pairs per subjct\n",
    "import urllib.parse\n",
    "\n",
    "triples = results['results']['bindings']\n",
    "current_subject = None\n",
    "matrix_of_pred_obj_pairs_all_subj = []\n",
    "array_of_pred_obj_pairs_per_subj = []\n",
    "for triple in triples:\n",
    "    if current_subject == None or current_subject != triple['s']['value']:\n",
    "        print(triple['s']['value'])\n",
    "        # Push this subjects pred obj pairs to the matrix\n",
    "        if len(array_of_pred_obj_pairs_per_subj) > 0:\n",
    "            print(array_of_pred_obj_pairs_per_subj)\n",
    "            matrix_of_pred_obj_pairs_all_subj.append(array_of_pred_obj_pairs_per_subj)\n",
    "        \n",
    "        # Set new subject and clear subj pairs array\n",
    "        current_subject = triple['s']['value']\n",
    "        array_of_pred_obj_pairs_per_subj = []\n",
    "    \n",
    "    # Add pred obj pairs to array\n",
    "    predicate = urllib.parse.unquote_plus(triple['p']['value']).replace('urn:', '')\n",
    "    object = urllib.parse.unquote_plus(triple['o']['value']).replace('urn:', '')\n",
    "    array_of_pred_obj_pairs_per_subj.append(predicate + ' ' + object)   "
   ]
  },
  {
   "cell_type": "code",
   "execution_count": null,
   "id": "0def7fe6",
   "metadata": {},
   "outputs": [],
   "source": [
    "# Run Frequent Pattern Growth (FP-Growth) Algorithm\n",
    "# This finds pairs of statements that are found to be true accross different subjects\n",
    "\n",
    "# For a simple example of fpgrowth alg, check out https://www.kaggle.com/code/rjmanoj/fp-growth-algorithm-frequent-itemset-pattern\n",
    "\n",
    "import pandas as pd\n",
    "from mlxtend.preprocessing import TransactionEncoder\n",
    "from mlxtend.frequent_patterns import fpgrowth\n",
    "from IPython.display import display, HTML\n",
    "\n",
    "te = TransactionEncoder()\n",
    "te_ary = te.fit(matrix_of_pred_obj_pairs_all_subj).transform(matrix_of_pred_obj_pairs_all_subj)\n",
    "df = pd.DataFrame(te_ary, columns=te.columns_)\n",
    "\n",
    "fpgrowth_df = fpgrowth(df, min_support=0.002, use_colnames=True)\n",
    "\n",
    "pd.set_option(\"display.max_colwidth\", 10000)\n",
    "fpgrowth_df[fpgrowth_df.itemsets.str.len() > 1]"
   ]
  }
 ],
 "metadata": {
  "kernelspec": {
   "display_name": "Python 3",
   "language": "python",
   "name": "python3"
  },
  "language_info": {
   "codemirror_mode": {
    "name": "ipython",
    "version": 3
   },
   "file_extension": ".py",
   "mimetype": "text/x-python",
   "name": "python",
   "nbconvert_exporter": "python",
   "pygments_lexer": "ipython3",
   "version": "3.7.12"
  }
 },
 "nbformat": 4,
 "nbformat_minor": 5
}
